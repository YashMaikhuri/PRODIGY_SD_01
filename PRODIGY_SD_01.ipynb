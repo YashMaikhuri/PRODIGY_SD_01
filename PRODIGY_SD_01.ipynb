{
 "cells": [
  {
   "cell_type": "code",
   "execution_count": 1,
   "id": "6ba78fbf-c07e-4a2f-ac4a-e563c9a5ad3f",
   "metadata": {},
   "outputs": [
    {
     "name": "stdin",
     "output_type": "stream",
     "text": [
      "Enter the temperature value:  67\n",
      "Enter the unit (C for Celsius, F for Fahrenheit, K for Kelvin):  k\n"
     ]
    },
    {
     "name": "stdout",
     "output_type": "stream",
     "text": [
      "67.0K is -206.15°C and -339.07°F.\n"
     ]
    }
   ],
   "source": [
    "def celsius_to_fahrenheit(celsius):\n",
    "    return (celsius * 9/5) + 32\n",
    "\n",
    "def celsius_to_kelvin(celsius):\n",
    "    return celsius + 273.15\n",
    "\n",
    "def fahrenheit_to_celsius(fahrenheit):\n",
    "    return (fahrenheit - 32) * 5/9\n",
    "\n",
    "def fahrenheit_to_kelvin(fahrenheit):\n",
    "    return (fahrenheit - 32) * 5/9 + 273.15\n",
    "\n",
    "def kelvin_to_celsius(kelvin):\n",
    "    return kelvin - 273.15\n",
    "\n",
    "def kelvin_to_fahrenheit(kelvin):\n",
    "    return (kelvin - 273.15) * 9/5 + 32\n",
    "\n",
    "def convert_temperature(value, unit):\n",
    "    if unit == 'C':\n",
    "        fahrenheit = celsius_to_fahrenheit(value)\n",
    "        kelvin = celsius_to_kelvin(value)\n",
    "        print(f\"{value}°C is {fahrenheit:.2f}°F and {kelvin:.2f}K.\")\n",
    "    elif unit == 'F':\n",
    "        celsius = fahrenheit_to_celsius(value)\n",
    "        kelvin = fahrenheit_to_kelvin(value)\n",
    "        print(f\"{value}°F is {celsius:.2f}°C and {kelvin:.2f}K.\")\n",
    "    elif unit == 'K':\n",
    "        celsius = kelvin_to_celsius(value)\n",
    "        fahrenheit = kelvin_to_fahrenheit(value)\n",
    "        print(f\"{value}K is {celsius:.2f}°C and {fahrenheit:.2f}°F.\")\n",
    "    else:\n",
    "        print(\"Invalid unit. Please enter C for Celsius, F for Fahrenheit, or K for Kelvin.\")\n",
    "\n",
    "# Main Program\n",
    "try:\n",
    "    temp_value = float(input(\"Enter the temperature value: \"))\n",
    "    temp_unit = input(\"Enter the unit (C for Celsius, F for Fahrenheit, K for Kelvin): \").upper()\n",
    "\n",
    "    convert_temperature(temp_value, temp_unit)\n",
    "except ValueError:\n",
    "    print(\"Please enter a valid numerical value for the temperature.\")\n"
   ]
  },
  {
   "cell_type": "code",
   "execution_count": null,
   "id": "d2d21276-5813-4328-b2f3-d088117b076d",
   "metadata": {},
   "outputs": [],
   "source": []
  }
 ],
 "metadata": {
  "kernelspec": {
   "display_name": "Python 3 (ipykernel)",
   "language": "python",
   "name": "python3"
  },
  "language_info": {
   "codemirror_mode": {
    "name": "ipython",
    "version": 3
   },
   "file_extension": ".py",
   "mimetype": "text/x-python",
   "name": "python",
   "nbconvert_exporter": "python",
   "pygments_lexer": "ipython3",
   "version": "3.11.8"
  }
 },
 "nbformat": 4,
 "nbformat_minor": 5
}
